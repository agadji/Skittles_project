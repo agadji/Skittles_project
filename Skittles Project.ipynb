{
 "cells": [
  {
   "cell_type": "code",
   "execution_count": 1,
   "metadata": {
    "collapsed": false
   },
   "outputs": [
    {
     "data": {
      "text/plain": [
       "['Participants', 'Sight', 'Taste', '']"
      ]
     },
     "execution_count": 1,
     "metadata": {},
     "output_type": "execute_result"
    }
   ],
   "source": [
    "import csv #Imports a data file in a spreadsheet format\n",
    "\n",
    "csvFile = open(\"Skittles project.csv - Sheet1.csv\",'r') #Opens the file and reads the file\n",
    "csvReader = csv.reader(csvFile, delimiter=',') #Creats a variable that reads the csv file\n",
    "next(csvReader) #Skips first line\n",
    "next(csvReader) #Skips second line"
   ]
  },
  {
   "cell_type": "code",
   "execution_count": 2,
   "metadata": {
    "collapsed": true
   },
   "outputs": [],
   "source": [
    "sight= [] #Creates empty list for sight data\n",
    "taste= [] #Creates empty list for taste data"
   ]
  },
  {
   "cell_type": "code",
   "execution_count": 3,
   "metadata": {
    "collapsed": false
   },
   "outputs": [],
   "source": [
    "for row in csvReader: #Create a for loop to read every row of csv file after the second row\n",
    "    sight.append(float(row[1])) #Adds all the values in column 1 to sight list\n",
    "    taste.append(float(row[2])) #Adds all the values in column 2 to taste list\n",
    "    if (float(row[0])==13): #Tells it to check if it reached the last row\n",
    "             break #Tells it to stop"
   ]
  },
  {
   "cell_type": "code",
   "execution_count": 4,
   "metadata": {
    "collapsed": false
   },
   "outputs": [
    {
     "name": "stdout",
     "output_type": "stream",
     "text": [
      "[2.0, 3.0, 2.0, 1.0, 4.0, 5.0, 4.0, 3.0, 3.0, 4.0, 2.0, 4.0, 5.0] [0.0, 3.0, 2.0, 2.0, 3.0, 2.0, 3.0, 1.0, 0.0, 2.0, 0.0, 0.0, 2.0]\n"
     ]
    }
   ],
   "source": [
    "print(sight,taste) #Prints sight and taste lists"
   ]
  },
  {
   "cell_type": "code",
   "execution_count": 5,
   "metadata": {
    "collapsed": false
   },
   "outputs": [
    {
     "name": "stdout",
     "output_type": "stream",
     "text": [
      "3.23076923077\n",
      "1.53846153846\n"
     ]
    }
   ],
   "source": [
    "import numpy as np #Imports a package which is able to do calculations\n",
    "print(np.mean(sight)) #Prints mean of sight list\n",
    "print(np.mean(taste)) #Printsmean of taste list"
   ]
  },
  {
   "cell_type": "code",
   "execution_count": 6,
   "metadata": {
    "collapsed": false
   },
   "outputs": [
    {
     "name": "stdout",
     "output_type": "stream",
     "text": [
      "1.18671143235\n",
      "1.15127919593\n"
     ]
    }
   ],
   "source": [
    "print(np.std(sight)) #Prints squared difference of sight list\n",
    "print(np.std(taste)) #Prints squared difference of taste list"
   ]
  },
  {
   "cell_type": "code",
   "execution_count": 7,
   "metadata": {
    "collapsed": false
   },
   "outputs": [
    {
     "data": {
      "image/png": "[encoded data removed]",
      "text/plain": [
       "<matplotlib.figure.Figure at 0x10dd07978>"
      ]
     },
     "metadata": {},
     "output_type": "display_data"
    }
   ],
   "source": [
    "import matplotlib.pyplot as plt #imports plotting library to create a graph\n",
    "\n",
    "xdata=[0,1] #Specify the x locations of the bars\n",
    "ydata=[np.mean(sight), np.mean(taste)] #Specify the y data\n",
    "colors=[\"blue\", \"red\"] #Create a list of colors\n",
    "yerrs=[np.std(sight), np.std(taste)] #Adds error bars\n",
    "\n",
    "plt.bar(xdata, ydata, width=0.8, color = colors, yerr = yerrs, capsize = 20) #creats bar graph\n",
    "plt.xticks([0,1],[\"Sight\",\"Taste\"]) #Replaces the numbers on the x-axis with labels\n",
    "plt.xlabel(\"Senses Used\") #Adds x-axis label\n",
    "plt.ylabel(\"Average Correct Answers\") #Adds y-axis label\n",
    "plt.suptitle(\"Taste vs See The Rainbow\") #Adds bar graph title\n",
    "plt.show() #shows the bar graph\n",
    "\n",
    "plt.savefig('skittles.png') #Saves the figure\n"
   ]
  }
 ],
 "metadata": {
  "kernelspec": {
   "display_name": "Python 3",
   "language": "python",
   "name": "python3"
  },
  "language_info": {
   "codemirror_mode": {
    "name": "ipython",
    "version": 3
   },
   "file_extension": ".py",
   "mimetype": "text/x-python",
   "name": "python",
   "nbconvert_exporter": "python",
   "pygments_lexer": "ipython3",
   "version": "3.5.2"
  }
 },
 "nbformat": 4,
 "nbformat_minor": 2
}
